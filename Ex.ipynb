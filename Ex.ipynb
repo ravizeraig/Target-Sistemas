{
 "cells": [
  {
   "cell_type": "markdown",
   "id": "6f5fd133-679d-4f15-ab8f-8b5caa7369f9",
   "metadata": {},
   "source": [
    "# 1° Pergunta"
   ]
  },
  {
   "cell_type": "code",
   "execution_count": 2,
   "id": "e11bd7b0-801f-445a-8a6c-a2cf24e0adb9",
   "metadata": {},
   "outputs": [
    {
     "name": "stdout",
     "output_type": "stream",
     "text": [
      "91\n"
     ]
    }
   ],
   "source": [
    "INDICE = 13\n",
    "SOMA = 0\n",
    "K = 0\n",
    "\n",
    "while K < INDICE:\n",
    "    K = K + 1\n",
    "    SOMA = SOMA + K\n",
    "\n",
    "print(SOMA)\n"
   ]
  },
  {
   "cell_type": "markdown",
   "id": "caca3148-0bd4-42d5-91d2-295100293035",
   "metadata": {},
   "source": [
    "# 2° Pergunta"
   ]
  },
  {
   "cell_type": "code",
   "execution_count": 3,
   "id": "b76913c6-4aaf-46ef-b2eb-e4f4bfef681e",
   "metadata": {},
   "outputs": [
    {
     "name": "stdin",
     "output_type": "stream",
     "text": [
      "Digite um número:  3\n"
     ]
    },
    {
     "name": "stdout",
     "output_type": "stream",
     "text": [
      "O número 3 pertence à sequência de Fibonacci.\n"
     ]
    }
   ],
   "source": [
    "def fibonacci(n):\n",
    "    a, b = 0, 1\n",
    "    while a <= n:\n",
    "        if a == n:\n",
    "            return True\n",
    "        a, b = b, a + b\n",
    "    return False\n",
    "\n",
    "num = int(input(\"Digite um número: \"))\n",
    "if fibonacci(num):\n",
    "    print(f\"O número {num} pertence à sequência de Fibonacci.\")\n",
    "else:\n",
    "    print(f\"O número {num} não pertence à sequência de Fibonacci.\")\n"
   ]
  },
  {
   "cell_type": "markdown",
   "id": "279b424f-cb82-487b-8586-5bdfcd037e83",
   "metadata": {},
   "source": [
    "# 3° Pergunta"
   ]
  },
  {
   "cell_type": "code",
   "execution_count": 7,
   "id": "42ff7820-b7d6-47d7-ae5a-724b53fed5ed",
   "metadata": {},
   "outputs": [
    {
     "name": "stdout",
     "output_type": "stream",
     "text": [
      "Menor faturamento: 373.78\n",
      "Maior faturamento: 48924.24\n",
      "Dias acima da média: 10\n"
     ]
    }
   ],
   "source": [
    "import json\n",
    "\n",
    "# Carregar dados do arquivo JSON\n",
    "caminho_arquivo = r\"C:\\\\Users\\\\igor.de.paula\\\\OneDrive\\\\Python_impressionador\\\\datascience - pelo mundo\\\\dados.json\"\n",
    "with open(caminho_arquivo, \"r\") as file:\n",
    "    dados = json.load(file)\n",
    "\n",
    "# Filtrar dias com faturamento\n",
    "faturamentos = [d[\"valor\"] for d in dados if d[\"valor\"] > 0]\n",
    "\n",
    "# Calcular estatísticas\n",
    "menor_faturamento = min(faturamentos)\n",
    "maior_faturamento = max(faturamentos)\n",
    "media_mensal = sum(faturamentos) / len(faturamentos)\n",
    "\n",
    "dias_acima_da_media = sum(1 for valor in faturamentos if valor > media_mensal)\n",
    "\n",
    "# Exibir resultados\n",
    "print(f\"Menor faturamento: {menor_faturamento:.2f}\")\n",
    "print(f\"Maior faturamento: {maior_faturamento:.2f}\")\n",
    "print(f\"Dias acima da média: {dias_acima_da_media}\")\n"
   ]
  },
  {
   "cell_type": "markdown",
   "id": "db5a4b99-24d5-4278-9721-cfe45370c90c",
   "metadata": {},
   "source": [
    "# 4 Pergunta"
   ]
  },
  {
   "cell_type": "code",
   "execution_count": 8,
   "id": "85e80670-1693-40ff-bcc6-c4959892f1a3",
   "metadata": {},
   "outputs": [
    {
     "name": "stdout",
     "output_type": "stream",
     "text": [
      "SP: 37.53%\n",
      "RJ: 20.29%\n",
      "MG: 16.17%\n",
      "ES: 15.03%\n",
      "Outros: 10.98%\n"
     ]
    }
   ],
   "source": [
    "# Faturamento mensal por estado\n",
    "faturamento_estados = {\n",
    "    \"SP\": 67836.43,\n",
    "    \"RJ\": 36678.66,\n",
    "    \"MG\": 29229.88,\n",
    "    \"ES\": 27165.48,\n",
    "    \"Outros\": 19849.53\n",
    "}\n",
    "\n",
    "# Cálculo do faturamento total\n",
    "total_faturamento = sum(faturamento_estados.values())\n",
    "\n",
    "# Cálculo do percentual de cada estado\n",
    "percentuais = {estado: (valor / total_faturamento) * 100 for estado, valor in faturamento_estados.items()}\n",
    "\n",
    "# Exibir resultados\n",
    "for estado, percentual in percentuais.items():\n",
    "    print(f\"{estado}: {percentual:.2f}%\")\n"
   ]
  },
  {
   "cell_type": "markdown",
   "id": "ab0a7d89-f2c9-42a5-accb-3af786c4140f",
   "metadata": {},
   "source": [
    "# 5° Pergunta"
   ]
  },
  {
   "cell_type": "code",
   "execution_count": 11,
   "id": "9f9fdc54-27c5-4e6f-bc59-6698e6a7d026",
   "metadata": {},
   "outputs": [
    {
     "name": "stdin",
     "output_type": "stream",
     "text": [
      "Digite uma string:  Y\n"
     ]
    },
    {
     "name": "stdout",
     "output_type": "stream",
     "text": [
      "String invertida: Y\n"
     ]
    }
   ],
   "source": [
    "# Função para inverter string sem usar funções prontas\n",
    "def inverter_string(s):\n",
    "    invertida = \"\"\n",
    "    for char in s:\n",
    "        invertida = char + invertida\n",
    "    return invertida\n",
    "\n",
    "# Entrada do usuário\n",
    "string_original = input(\"Digite uma string: \")\n",
    "\n",
    "string_invertida = inverter_string(string_original)\n",
    "\n",
    "# Exibir resultado\n",
    "print(f\"String invertida: {string_invertida}\")\n"
   ]
  }
 ],
 "metadata": {
  "kernelspec": {
   "display_name": "Python 3 (ipykernel)",
   "language": "python",
   "name": "python3"
  },
  "language_info": {
   "codemirror_mode": {
    "name": "ipython",
    "version": 3
   },
   "file_extension": ".py",
   "mimetype": "text/x-python",
   "name": "python",
   "nbconvert_exporter": "python",
   "pygments_lexer": "ipython3",
   "version": "3.11.5"
  }
 },
 "nbformat": 4,
 "nbformat_minor": 5
}
